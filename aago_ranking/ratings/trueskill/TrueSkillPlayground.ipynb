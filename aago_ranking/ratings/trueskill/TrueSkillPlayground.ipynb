{
 "cells": [
  {
   "cell_type": "code",
   "execution_count": 1,
   "id": "38ef014f",
   "metadata": {},
   "outputs": [
    {
     "name": "stderr",
     "output_type": "stream",
     "text": [
      "/usr/lib/python3/dist-packages/scipy/__init__.py:146: UserWarning: A NumPy version >=1.17.3 and <1.25.0 is required for this version of SciPy (detected version 1.25.1\n",
      "  warnings.warn(f\"A NumPy version >={np_minversion} and <{np_maxversion}\"\n"
     ]
    }
   ],
   "source": [
    "import trueskillthroughtime as ttt\n",
    "import pandas as pd\n",
    "from datetime import datetime\n",
    "import matplotlib.pyplot as plt\n",
    "import seaborn as sns\n",
    "\n",
    "plt.style.use(\"dark_background\") "
   ]
  },
  {
   "cell_type": "code",
   "execution_count": 2,
   "id": "b521f4dc",
   "metadata": {},
   "outputs": [
    {
     "data": {
      "text/html": [
       "<div>\n",
       "<style scoped>\n",
       "    .dataframe tbody tr th:only-of-type {\n",
       "        vertical-align: middle;\n",
       "    }\n",
       "\n",
       "    .dataframe tbody tr th {\n",
       "        vertical-align: top;\n",
       "    }\n",
       "\n",
       "    .dataframe thead th {\n",
       "        text-align: right;\n",
       "    }\n",
       "</style>\n",
       "<table border=\"1\" class=\"dataframe\">\n",
       "  <thead>\n",
       "    <tr style=\"text-align: right;\">\n",
       "      <th></th>\n",
       "      <th>id</th>\n",
       "      <th>created</th>\n",
       "      <th>modified</th>\n",
       "      <th>handicap</th>\n",
       "      <th>komi</th>\n",
       "      <th>result</th>\n",
       "      <th>reason</th>\n",
       "      <th>points</th>\n",
       "      <th>date</th>\n",
       "      <th>black_player_id</th>\n",
       "      <th>...</th>\n",
       "      <th>event_id</th>\n",
       "      <th>description</th>\n",
       "      <th>unrated</th>\n",
       "      <th>id.1</th>\n",
       "      <th>created.1</th>\n",
       "      <th>modified.1</th>\n",
       "      <th>name</th>\n",
       "      <th>start_date</th>\n",
       "      <th>end_date</th>\n",
       "      <th>description.1</th>\n",
       "    </tr>\n",
       "  </thead>\n",
       "  <tbody>\n",
       "    <tr>\n",
       "      <th>0</th>\n",
       "      <td>6791</td>\n",
       "      <td>2023-07-05 02:57:16</td>\n",
       "      <td>2023-07-05 02:57:16</td>\n",
       "      <td>0</td>\n",
       "      <td>6.5</td>\n",
       "      <td>black</td>\n",
       "      <td>unknown</td>\n",
       "      <td>0.0</td>\n",
       "      <td>2023-01-15</td>\n",
       "      <td>142</td>\n",
       "      <td>...</td>\n",
       "      <td>122</td>\n",
       "      <td>NaN</td>\n",
       "      <td>0</td>\n",
       "      <td>122</td>\n",
       "      <td>2023-07-05 02:57:16</td>\n",
       "      <td>2023-07-05 02:57:16</td>\n",
       "      <td>Clasificatorio Equipo Argentino 7.ª Liga Panda...</td>\n",
       "      <td>2023-01-14</td>\n",
       "      <td>2023-01-15</td>\n",
       "      <td>NaN</td>\n",
       "    </tr>\n",
       "    <tr>\n",
       "      <th>1</th>\n",
       "      <td>6790</td>\n",
       "      <td>2023-07-05 02:57:16</td>\n",
       "      <td>2023-07-05 02:57:16</td>\n",
       "      <td>0</td>\n",
       "      <td>6.5</td>\n",
       "      <td>black</td>\n",
       "      <td>unknown</td>\n",
       "      <td>0.0</td>\n",
       "      <td>2023-01-15</td>\n",
       "      <td>173</td>\n",
       "      <td>...</td>\n",
       "      <td>122</td>\n",
       "      <td>NaN</td>\n",
       "      <td>0</td>\n",
       "      <td>122</td>\n",
       "      <td>2023-07-05 02:57:16</td>\n",
       "      <td>2023-07-05 02:57:16</td>\n",
       "      <td>Clasificatorio Equipo Argentino 7.ª Liga Panda...</td>\n",
       "      <td>2023-01-14</td>\n",
       "      <td>2023-01-15</td>\n",
       "      <td>NaN</td>\n",
       "    </tr>\n",
       "    <tr>\n",
       "      <th>2</th>\n",
       "      <td>6789</td>\n",
       "      <td>2023-07-05 02:57:16</td>\n",
       "      <td>2023-07-05 02:57:16</td>\n",
       "      <td>0</td>\n",
       "      <td>6.5</td>\n",
       "      <td>black</td>\n",
       "      <td>unknown</td>\n",
       "      <td>0.0</td>\n",
       "      <td>2023-01-15</td>\n",
       "      <td>208</td>\n",
       "      <td>...</td>\n",
       "      <td>122</td>\n",
       "      <td>NaN</td>\n",
       "      <td>0</td>\n",
       "      <td>122</td>\n",
       "      <td>2023-07-05 02:57:16</td>\n",
       "      <td>2023-07-05 02:57:16</td>\n",
       "      <td>Clasificatorio Equipo Argentino 7.ª Liga Panda...</td>\n",
       "      <td>2023-01-14</td>\n",
       "      <td>2023-01-15</td>\n",
       "      <td>NaN</td>\n",
       "    </tr>\n",
       "    <tr>\n",
       "      <th>3</th>\n",
       "      <td>6788</td>\n",
       "      <td>2023-07-05 02:57:16</td>\n",
       "      <td>2023-07-05 02:57:16</td>\n",
       "      <td>0</td>\n",
       "      <td>6.5</td>\n",
       "      <td>white</td>\n",
       "      <td>unknown</td>\n",
       "      <td>0.0</td>\n",
       "      <td>2023-01-15</td>\n",
       "      <td>45</td>\n",
       "      <td>...</td>\n",
       "      <td>122</td>\n",
       "      <td>NaN</td>\n",
       "      <td>0</td>\n",
       "      <td>122</td>\n",
       "      <td>2023-07-05 02:57:16</td>\n",
       "      <td>2023-07-05 02:57:16</td>\n",
       "      <td>Clasificatorio Equipo Argentino 7.ª Liga Panda...</td>\n",
       "      <td>2023-01-14</td>\n",
       "      <td>2023-01-15</td>\n",
       "      <td>NaN</td>\n",
       "    </tr>\n",
       "    <tr>\n",
       "      <th>4</th>\n",
       "      <td>6787</td>\n",
       "      <td>2023-07-05 02:57:16</td>\n",
       "      <td>2023-07-05 02:57:16</td>\n",
       "      <td>0</td>\n",
       "      <td>6.5</td>\n",
       "      <td>white</td>\n",
       "      <td>unknown</td>\n",
       "      <td>0.0</td>\n",
       "      <td>2023-01-14</td>\n",
       "      <td>142</td>\n",
       "      <td>...</td>\n",
       "      <td>122</td>\n",
       "      <td>NaN</td>\n",
       "      <td>0</td>\n",
       "      <td>122</td>\n",
       "      <td>2023-07-05 02:57:16</td>\n",
       "      <td>2023-07-05 02:57:16</td>\n",
       "      <td>Clasificatorio Equipo Argentino 7.ª Liga Panda...</td>\n",
       "      <td>2023-01-14</td>\n",
       "      <td>2023-01-15</td>\n",
       "      <td>NaN</td>\n",
       "    </tr>\n",
       "  </tbody>\n",
       "</table>\n",
       "<p>5 rows × 21 columns</p>\n",
       "</div>"
      ],
      "text/plain": [
       "     id              created             modified  handicap  komi result  \\\n",
       "0  6791  2023-07-05 02:57:16  2023-07-05 02:57:16         0   6.5  black   \n",
       "1  6790  2023-07-05 02:57:16  2023-07-05 02:57:16         0   6.5  black   \n",
       "2  6789  2023-07-05 02:57:16  2023-07-05 02:57:16         0   6.5  black   \n",
       "3  6788  2023-07-05 02:57:16  2023-07-05 02:57:16         0   6.5  white   \n",
       "4  6787  2023-07-05 02:57:16  2023-07-05 02:57:16         0   6.5  white   \n",
       "\n",
       "    reason  points        date  black_player_id  ...  event_id  description  \\\n",
       "0  unknown     0.0  2023-01-15              142  ...       122          NaN   \n",
       "1  unknown     0.0  2023-01-15              173  ...       122          NaN   \n",
       "2  unknown     0.0  2023-01-15              208  ...       122          NaN   \n",
       "3  unknown     0.0  2023-01-15               45  ...       122          NaN   \n",
       "4  unknown     0.0  2023-01-14              142  ...       122          NaN   \n",
       "\n",
       "  unrated  id.1            created.1           modified.1  \\\n",
       "0       0   122  2023-07-05 02:57:16  2023-07-05 02:57:16   \n",
       "1       0   122  2023-07-05 02:57:16  2023-07-05 02:57:16   \n",
       "2       0   122  2023-07-05 02:57:16  2023-07-05 02:57:16   \n",
       "3       0   122  2023-07-05 02:57:16  2023-07-05 02:57:16   \n",
       "4       0   122  2023-07-05 02:57:16  2023-07-05 02:57:16   \n",
       "\n",
       "                                                name  start_date    end_date  \\\n",
       "0  Clasificatorio Equipo Argentino 7.ª Liga Panda...  2023-01-14  2023-01-15   \n",
       "1  Clasificatorio Equipo Argentino 7.ª Liga Panda...  2023-01-14  2023-01-15   \n",
       "2  Clasificatorio Equipo Argentino 7.ª Liga Panda...  2023-01-14  2023-01-15   \n",
       "3  Clasificatorio Equipo Argentino 7.ª Liga Panda...  2023-01-14  2023-01-15   \n",
       "4  Clasificatorio Equipo Argentino 7.ª Liga Panda...  2023-01-14  2023-01-15   \n",
       "\n",
       "  description.1  \n",
       "0           NaN  \n",
       "1           NaN  \n",
       "2           NaN  \n",
       "3           NaN  \n",
       "4           NaN  \n",
       "\n",
       "[5 rows x 21 columns]"
      ]
     },
     "execution_count": 2,
     "metadata": {},
     "output_type": "execute_result"
    }
   ],
   "source": [
    "\n",
    "\n",
    "df = pd.read_csv('games.csv')\n",
    "\n",
    "df['handicap'].mean()\n",
    "df.head()"
   ]
  },
  {
   "cell_type": "code",
   "execution_count": null,
   "id": "3086da4e",
   "metadata": {},
   "outputs": [],
   "source": []
  },
  {
   "cell_type": "code",
   "execution_count": 3,
   "id": "f78af213",
   "metadata": {},
   "outputs": [
    {
     "data": {
      "text/html": [
       "<div>\n",
       "<style scoped>\n",
       "    .dataframe tbody tr th:only-of-type {\n",
       "        vertical-align: middle;\n",
       "    }\n",
       "\n",
       "    .dataframe tbody tr th {\n",
       "        vertical-align: top;\n",
       "    }\n",
       "\n",
       "    .dataframe thead th {\n",
       "        text-align: right;\n",
       "    }\n",
       "</style>\n",
       "<table border=\"1\" class=\"dataframe\">\n",
       "  <thead>\n",
       "    <tr style=\"text-align: right;\">\n",
       "      <th></th>\n",
       "      <th>handicap</th>\n",
       "      <th>result</th>\n",
       "      <th>winner_handicap</th>\n",
       "      <th>winner_team</th>\n",
       "    </tr>\n",
       "  </thead>\n",
       "  <tbody>\n",
       "    <tr>\n",
       "      <th>0</th>\n",
       "      <td>0</td>\n",
       "      <td>black</td>\n",
       "      <td>handi_0</td>\n",
       "      <td>[142, handi_1, handi_0]</td>\n",
       "    </tr>\n",
       "    <tr>\n",
       "      <th>1</th>\n",
       "      <td>0</td>\n",
       "      <td>black</td>\n",
       "      <td>handi_0</td>\n",
       "      <td>[173, handi_1, handi_0]</td>\n",
       "    </tr>\n",
       "    <tr>\n",
       "      <th>2</th>\n",
       "      <td>0</td>\n",
       "      <td>black</td>\n",
       "      <td>handi_0</td>\n",
       "      <td>[208, handi_1, handi_0]</td>\n",
       "    </tr>\n",
       "    <tr>\n",
       "      <th>3</th>\n",
       "      <td>0</td>\n",
       "      <td>white</td>\n",
       "      <td>handi_0</td>\n",
       "      <td>[7]</td>\n",
       "    </tr>\n",
       "    <tr>\n",
       "      <th>4</th>\n",
       "      <td>0</td>\n",
       "      <td>white</td>\n",
       "      <td>handi_0</td>\n",
       "      <td>[96]</td>\n",
       "    </tr>\n",
       "    <tr>\n",
       "      <th>...</th>\n",
       "      <td>...</td>\n",
       "      <td>...</td>\n",
       "      <td>...</td>\n",
       "      <td>...</td>\n",
       "    </tr>\n",
       "    <tr>\n",
       "      <th>6486</th>\n",
       "      <td>0</td>\n",
       "      <td>white</td>\n",
       "      <td>handi_0</td>\n",
       "      <td>[3]</td>\n",
       "    </tr>\n",
       "    <tr>\n",
       "      <th>6487</th>\n",
       "      <td>0</td>\n",
       "      <td>black</td>\n",
       "      <td>handi_0</td>\n",
       "      <td>[4, handi_1, handi_0]</td>\n",
       "    </tr>\n",
       "    <tr>\n",
       "      <th>6488</th>\n",
       "      <td>0</td>\n",
       "      <td>white</td>\n",
       "      <td>handi_0</td>\n",
       "      <td>[4]</td>\n",
       "    </tr>\n",
       "    <tr>\n",
       "      <th>6489</th>\n",
       "      <td>0</td>\n",
       "      <td>white</td>\n",
       "      <td>handi_0</td>\n",
       "      <td>[1]</td>\n",
       "    </tr>\n",
       "    <tr>\n",
       "      <th>6490</th>\n",
       "      <td>5</td>\n",
       "      <td>black</td>\n",
       "      <td>handi_5</td>\n",
       "      <td>[2, handi_1, handi_0]</td>\n",
       "    </tr>\n",
       "  </tbody>\n",
       "</table>\n",
       "<p>6491 rows × 4 columns</p>\n",
       "</div>"
      ],
      "text/plain": [
       "      handicap result winner_handicap              winner_team\n",
       "0            0  black         handi_0  [142, handi_1, handi_0]\n",
       "1            0  black         handi_0  [173, handi_1, handi_0]\n",
       "2            0  black         handi_0  [208, handi_1, handi_0]\n",
       "3            0  white         handi_0                      [7]\n",
       "4            0  white         handi_0                     [96]\n",
       "...        ...    ...             ...                      ...\n",
       "6486         0  white         handi_0                      [3]\n",
       "6487         0  black         handi_0    [4, handi_1, handi_0]\n",
       "6488         0  white         handi_0                      [4]\n",
       "6489         0  white         handi_0                      [1]\n",
       "6490         5  black         handi_5    [2, handi_1, handi_0]\n",
       "\n",
       "[6491 rows x 4 columns]"
      ]
     },
     "execution_count": 3,
     "metadata": {},
     "output_type": "execute_result"
    }
   ],
   "source": [
    "\n",
    "df['winner_id'] = df.apply(lambda row : str(row['black_player_id']) if row['result'] == 'black' else str(row['white_player_id']), axis = 1)\n",
    "df['looser_id'] = df.apply(lambda row : str(row['white_player_id']) if row['result'] == 'black' else str(row['black_player_id']), axis = 1)\n",
    "df['winner_handicap'] =  df.apply(lambda row : 'handi_' + str(row['handicap']) if row['result'] == 'black' else 'handi_0', axis = 1)\n",
    "df['looser_handicap'] = df.apply(lambda row : 'handi_0' if row['result'] == 'black' else 'handi_' + str(row['handicap']), axis = 1)\n",
    "\n",
    "\n",
    "def winner_team(row):\n",
    "    if row['result'] == 'black':\n",
    "        return [str(row['black_player_id']) , 'handi_1', 'handi_0']\n",
    "    else:\n",
    "        return [str(row['white_player_id']) ]\n",
    "        \n",
    "def looser_team(row):\n",
    "    if row['result'] == 'white':\n",
    "        return [str(row['black_player_id']) , 'handi_1', 'handi_0']\n",
    "    else:\n",
    "        return [str(row['white_player_id']) ] \n",
    "\n",
    "def winner_team_weights(row):\n",
    "    handicap = float(row.handicap)\n",
    "    dividend = (2.0+handicap)\n",
    "    if row['result'] == 'black':\n",
    "        return [1.0/dividend, handicap, 1.0/dividend]\n",
    "    else:\n",
    "        return [1.0]\n",
    "    \n",
    "        \n",
    "def looser_team_weights(row):\n",
    "    handicap = float(row.handicap)\n",
    "    dividend = (2.0+handicap)\n",
    "    if row['result'] == 'white':\n",
    "        return [1.0/dividend, handicap/dividend, 1.0/dividend]\n",
    "    else:\n",
    "        return [1.0] \n",
    "\n",
    "\n",
    "df['winner_team'] = df.apply(winner_team, axis = 1)\n",
    "df['looser_team'] = df.apply(looser_team, axis = 1)\n",
    "df['winner_team_weights'] = df.apply(winner_team_weights, axis = 1)\n",
    "df['looser_team_weights'] = df.apply(looser_team_weights, axis = 1)\n",
    "\n",
    "\n",
    "players_ids = set(df['winner_id']).union(set(df['looser_id']))\n",
    "handi_ids= set(['handi_0'] +[ 'handi_' + str(i) for i in range(2,10)] )\n",
    "\n",
    "# handi_ids\n",
    "# df['start_date']\n",
    "df[['handicap', 'result', 'winner_handicap', 'winner_team']]\n",
    "# df.dtypes\n"
   ]
  },
  {
   "cell_type": "code",
   "execution_count": 15,
   "id": "5588c52b",
   "metadata": {},
   "outputs": [
    {
     "name": "stdout",
     "output_type": "stream",
     "text": [
      "Iteration =  0 , step =  (4.638589054166785, 2.441996909524817)\n",
      "Iteration =  1 , step =  (0.6159029283812094, 0.12034438387455149)\n",
      "Iteration =  2 , step =  (0.4460507727995795, 0.048612489087816124)\n",
      "Iteration =  3 , step =  (0.37521985344592235, 0.03728071928928589)\n",
      "Iteration =  4 , step =  (0.31672713209284176, 0.03162313031504338)\n",
      "Iteration =  5 , step =  (0.2670746615119066, 0.026939053247988287)\n",
      "Iteration =  6 , step =  (0.22673994232423933, 0.023010043180522688)\n",
      "Iteration =  7 , step =  (0.19362436192364996, 0.01969560971010731)\n",
      "Iteration =  8 , step =  (0.16563870709783401, 0.016890135672801954)\n",
      "Iteration =  9 , step =  (0.14194422845259247, 0.014509147584910398)\n",
      "Iteration =  10 , step =  (0.12184458299331347, 0.012483549593392596)\n",
      "Iteration =  11 , step =  (0.10475930883277584, 0.010756365904445397)\n",
      "Iteration =  12 , step =  (0.09028216257806054, 0.00928044366201175)\n",
      "Iteration =  13 , step =  (0.0781832014786703, 0.008016658341328364)\n",
      "Iteration =  14 , step =  (0.06776321223621373, 0.00693246317791818)\n",
      "Iteration =  15 , step =  (0.05877578196340316, 0.006010991089648199)\n",
      "End\n"
     ]
    },
    {
     "data": {
      "text/plain": [
       "((0.05877578196340316, 0.006010991089648199), 16)"
      ]
     },
     "execution_count": 15,
     "metadata": {},
     "output_type": "execute_result"
    }
   ],
   "source": [
    "columns = zip(df.winner_team, df.looser_team)\n",
    "composition = [ [w,l] for w, l in columns ]\n",
    "\n",
    "weights = [ [ww, lw] for ww, lw in zip(df.winner_team_weights, df.looser_team_weights)]\n",
    "times = [ datetime.strptime(t, \"%Y-%m-%d\").timestamp()/(60*60*24) for t in df.end_date]\n",
    "\n",
    "EPSILON = 0.01\n",
    "ITERATIONS = 16 # 16\n",
    "BETA = 2  # relation between performance and winning probability (spread)\n",
    "MU = 0\n",
    "SIGMA = 1.25 * BETA # standard deviations of priors\n",
    "GAMMA = 0.025 * BETA # time uncertainty\n",
    "HANDI_SIGMA = 1 * SIGMA\n",
    "HANDI1_MU = MU\n",
    "\n",
    "\n",
    "priors_handi = {'handi_1': ttt.Player(ttt.Gaussian(HANDI1_MU, HANDI_SIGMA), beta=0,gamma=0),\n",
    "                'handi_0': ttt.Player(ttt.Gaussian(MU, HANDI_SIGMA), beta=0,gamma=0)\n",
    "               }\n",
    "\n",
    "h = ttt.History(composition = composition, times = times, priors= priors_handi, mu=MU, sigma=SIGMA, gamma=GAMMA, weights= weights)\n",
    "h.convergence(epsilon=EPSILON, iterations=ITERATIONS) # 16\n",
    "\n"
   ]
  },
  {
   "cell_type": "code",
   "execution_count": 17,
   "id": "3c10da98",
   "metadata": {},
   "outputs": [
    {
     "name": "stdout",
     "output_type": "stream",
     "text": [
      "-2178.9171196937355\n"
     ]
    },
    {
     "data": {
      "text/plain": [
       "0.7148498130735188"
      ]
     },
     "execution_count": 17,
     "metadata": {},
     "output_type": "execute_result"
    }
   ],
   "source": [
    "import math\n",
    "\n",
    "print(h.log_evidence())\n",
    "math.exp(h.log_evidence()/h.size)"
   ]
  },
  {
   "cell_type": "code",
   "execution_count": 18,
   "id": "9316e60e",
   "metadata": {},
   "outputs": [],
   "source": [
    "\n",
    "# agents = df.winner_id.sample(n=5).to_list() #+ \n",
    "\n",
    "agents = [ 'handi_' + str(i) for i in range(0,2)]\n",
    "\n",
    "# agents = handi_ids\n",
    "\n"
   ]
  },
  {
   "cell_type": "code",
   "execution_count": 19,
   "id": "48eafb9e",
   "metadata": {},
   "outputs": [
    {
     "name": "stdout",
     "output_type": "stream",
     "text": [
      "handi_0 15517.125 3.757549426477324 0.05917997201275391\n",
      "handi_1 15517.125 1.7177178419956023 0.04320440901530529\n"
     ]
    },
    {
     "data": {
      "image/png": "[encoded data removed]",
      "text/plain": [
       "<Figure size 640x480 with 1 Axes>"
      ]
     },
     "metadata": {},
     "output_type": "display_data"
    }
   ],
   "source": [
    "\n",
    "\n",
    "lc = h.learning_curves()\n",
    "pp = plt.figure(); plt.xlabel(\"t\"); plt.ylabel(\"skill\")\n",
    "cmap = plt.get_cmap(\"tab10\")\n",
    "for i, agent in enumerate(agents):\n",
    "    t = [v[0] for v in lc[agent]]\n",
    "    mu = [v[1].mu for v in lc[agent]]\n",
    "    sigma = [v[1].sigma for v in lc[agent]]\n",
    "    print(agent, t[0], mu[0], sigma[0])\n",
    "    plt.plot(t, mu, color= cmap(i), label=agent)\n",
    "    plt.fill_between(t, [m+s for m,s in zip(mu, sigma)], [m-s for m,s in zip(mu, sigma)], alpha=0.2, color = cmap(i))\n",
    "\n",
    "plt.legend()\n",
    "plt.show()\n",
    "\n",
    "\n"
   ]
  },
  {
   "cell_type": "code",
   "execution_count": 20,
   "id": "29702967",
   "metadata": {},
   "outputs": [
    {
     "data": {
      "text/plain": [
       "<Axes: ylabel='new_mu'>"
      ]
     },
     "execution_count": 20,
     "metadata": {},
     "output_type": "execute_result"
    },
    {
     "data": {
      "image/png": "[encoded data removed]",
      "text/plain": [
       "<Figure size 640x480 with 1 Axes>"
      ]
     },
     "metadata": {},
     "output_type": "display_data"
    }
   ],
   "source": [
    "learning_curves = h.learning_curves()\n",
    "\n",
    "l = []\n",
    "\n",
    "for entry in learning_curves.items():\n",
    "    for tup in entry[1]:\n",
    "        l.append([entry[0], tup[0], tup[1].mu ])\n",
    "\n",
    "\n",
    "new_ratings = pd.DataFrame(l, columns=['player_id', 'time', 'new_mu'])\n",
    "\n",
    "\n",
    "new_ratings = new_ratings[~ new_ratings['player_id'].isin(['handi_0', 'handi_1' ])]\n",
    "new_ratings['player_id'] = pd.to_numeric(new_ratings['player_id'])\n",
    "\n",
    "\n",
    "sns.boxplot(data=new_ratings, y='new_mu')"
   ]
  },
  {
   "cell_type": "markdown",
   "id": "a74dde31",
   "metadata": {},
   "source": [
    "# Ajuste de Curva con ratings actuales"
   ]
  },
  {
   "cell_type": "code",
   "execution_count": 25,
   "id": "fbbf22e1",
   "metadata": {},
   "outputs": [
    {
     "name": "stderr",
     "output_type": "stream",
     "text": [
      "/tmp/ipykernel_169829/4279370949.py:15: SettingWithCopyWarning: \n",
      "A value is trying to be set on a copy of a slice from a DataFrame\n",
      "\n",
      "See the caveats in the documentation: https://pandas.pydata.org/pandas-docs/stable/user_guide/indexing.html#returning-a-view-versus-a-copy\n",
      "  small_old_ratings.rename(columns={ 'mu': 'mu_old'}, inplace=True)\n"
     ]
    }
   ],
   "source": [
    "current_ratings = pd.read_csv('ratings.csv')\n",
    "\n",
    "def converted_mu(x):\n",
    "    return x + (x<0) - (x>0)\n",
    "\n",
    "current_ratings[['player_id', 'mu', 'end_date']]\n",
    "current_ratings['time'] = current_ratings['end_date'].apply(lambda series: datetime.strptime(series, \"%Y-%m-%d\").timestamp()/(60*60*24) ) \n",
    "\n",
    "# Por algun motivo, skippea valores entre -1 y uno\n",
    "current_ratings['mu'] = current_ratings['mu'].apply(converted_mu)\n",
    "\n",
    "\n",
    "\n",
    "small_old_ratings = current_ratings[['player_id', 'mu', 'time']]\n",
    "small_old_ratings.rename(columns={ 'mu': 'mu_old'}, inplace=True)\n",
    "\n",
    "# df_plot = small_old_ratings[small_old_ratings.player_id.isin(small_old_ratings.player_id.sample(5))]\n",
    "\n",
    "# sns.lineplot(x='time', y ='mu_old', hue='player_id', data=df_plot)\n",
    "# df_plot.dtypes"
   ]
  },
  {
   "cell_type": "code",
   "execution_count": null,
   "id": "0e1b1125",
   "metadata": {},
   "outputs": [],
   "source": []
  },
  {
   "cell_type": "code",
   "execution_count": 26,
   "id": "8475a052",
   "metadata": {},
   "outputs": [],
   "source": [
    "merged_ratings = small_old_ratings.merge(new_ratings, how = 'inner')\n",
    "\n",
    "merged_ratings = merged_ratings[merged_ratings['time']> 16500]\n",
    "merged_ratings = merged_ratings[merged_ratings['mu_old']> -10]\n",
    "merged_ratings = merged_ratings[merged_ratings['mu_old'] < 9]\n",
    "\n",
    "merged_ratings\n",
    "\n",
    "df_plot = merged_ratings[merged_ratings.player_id.isin(merged_ratings.player_id.sample(5))]\n",
    "\n",
    "# sns.scatterplot(x='new_mu', y ='mu_old', hue='time', data=df_plot)"
   ]
  },
  {
   "cell_type": "code",
   "execution_count": 32,
   "id": "314c69f7",
   "metadata": {},
   "outputs": [
    {
     "data": {
      "text/plain": [
       "(-11.546714797551575, 2.0212317656109673, 0.5486541439925361)"
      ]
     },
     "metadata": {},
     "output_type": "display_data"
    },
    {
     "data": {
      "text/plain": [
       "<Axes: ylabel='predict'>"
      ]
     },
     "execution_count": 32,
     "metadata": {},
     "output_type": "execute_result"
    },
    {
     "data": {
      "image/png": "[encoded data removed]",
      "text/plain": [
       "<Figure size 640x480 with 1 Axes>"
      ]
     },
     "metadata": {},
     "output_type": "display_data"
    }
   ],
   "source": [
    "## Linear Regression\n",
    "\n",
    "from sklearn.linear_model import LinearRegression\n",
    "\n",
    "model = LinearRegression()\n",
    "\n",
    "x = merged_ratings['new_mu'].to_numpy().reshape((-1,1))\n",
    "y = merged_ratings['mu_old'].to_numpy()\n",
    "\n",
    "\n",
    "model.fit(x,y)\n",
    "\n",
    "display((model.intercept_, model.coef_[0], model.score(x,y)))\n",
    "\n",
    "\n",
    "\n",
    "\n",
    "merged_ratings['predict'] = model.predict(x)\n",
    "\n",
    "sns.violinplot(y='predict', data=merged_ratings)\n"
   ]
  },
  {
   "cell_type": "code",
   "execution_count": 33,
   "id": "83f2b9ce",
   "metadata": {},
   "outputs": [
    {
     "data": {
      "text/plain": [
       "-6.833771523512635"
      ]
     },
     "execution_count": 33,
     "metadata": {},
     "output_type": "execute_result"
    }
   ],
   "source": [
    "z = (merged_ratings['mu_old'] - merged_ratings['new_mu'] ).median()\n",
    "\n",
    "\n",
    "z"
   ]
  },
  {
   "cell_type": "code",
   "execution_count": 29,
   "id": "196ba665",
   "metadata": {},
   "outputs": [
    {
     "data": {
      "text/plain": [
       "<Axes: ylabel='new_mu'>"
      ]
     },
     "execution_count": 29,
     "metadata": {},
     "output_type": "execute_result"
    },
    {
     "data": {
      "image/png": "[encoded data removed]",
      "text/plain": [
       "<Figure size 640x480 with 1 Axes>"
      ]
     },
     "metadata": {},
     "output_type": "display_data"
    }
   ],
   "source": [
    "merged_ratings['new_mu'].max()\n",
    "\n",
    "\n",
    "\n",
    "sns.boxplot(y='new_mu' ,data=merged_ratings)"
   ]
  },
  {
   "cell_type": "code",
   "execution_count": null,
   "id": "de5b32e0",
   "metadata": {},
   "outputs": [],
   "source": []
  },
  {
   "cell_type": "code",
   "execution_count": null,
   "id": "ccd21db6",
   "metadata": {},
   "outputs": [],
   "source": []
  },
  {
   "cell_type": "code",
   "execution_count": null,
   "id": "f62a6557",
   "metadata": {},
   "outputs": [],
   "source": []
  }
 ],
 "metadata": {
  "kernelspec": {
   "display_name": "Python 3 (ipykernel)",
   "language": "python",
   "name": "python3"
  },
  "language_info": {
   "codemirror_mode": {
    "name": "ipython",
    "version": 3
   },
   "file_extension": ".py",
   "mimetype": "text/x-python",
   "name": "python",
   "nbconvert_exporter": "python",
   "pygments_lexer": "ipython3",
   "version": "3.10.12"
  }
 },
 "nbformat": 4,
 "nbformat_minor": 5
}
